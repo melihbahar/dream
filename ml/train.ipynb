{
 "cells": [
  {
   "cell_type": "code",
   "execution_count": 1,
   "id": "initial_id",
   "metadata": {
    "collapsed": true,
    "ExecuteTime": {
     "end_time": "2024-01-27T09:05:57.905762Z",
     "start_time": "2024-01-27T09:05:57.139725Z"
    }
   },
   "outputs": [
    {
     "ename": "ModuleNotFoundError",
     "evalue": "No module named 'ml.preprocess'",
     "output_type": "error",
     "traceback": [
      "\u001B[0;31m---------------------------------------------------------------------------\u001B[0m",
      "\u001B[0;31mModuleNotFoundError\u001B[0m                       Traceback (most recent call last)",
      "Cell \u001B[0;32mIn[1], line 2\u001B[0m\n\u001B[1;32m      1\u001B[0m \u001B[38;5;28;01mfrom\u001B[39;00m \u001B[38;5;21;01mml\u001B[39;00m\u001B[38;5;21;01m.\u001B[39;00m\u001B[38;5;21;01mdata\u001B[39;00m\u001B[38;5;21;01m.\u001B[39;00m\u001B[38;5;21;01mget_data\u001B[39;00m \u001B[38;5;28;01mimport\u001B[39;00m get_data\n\u001B[0;32m----> 2\u001B[0m \u001B[38;5;28;01mfrom\u001B[39;00m \u001B[38;5;21;01mml\u001B[39;00m\u001B[38;5;21;01m.\u001B[39;00m\u001B[38;5;21;01mpreprocess\u001B[39;00m\u001B[38;5;21;01m.\u001B[39;00m\u001B[38;5;21;01mpreprocessor\u001B[39;00m \u001B[38;5;28;01mimport\u001B[39;00m Preprocessor\n\u001B[1;32m      3\u001B[0m \u001B[38;5;28;01mfrom\u001B[39;00m \u001B[38;5;21;01mml\u001B[39;00m\u001B[38;5;21;01m.\u001B[39;00m\u001B[38;5;21;01mevaluate\u001B[39;00m\u001B[38;5;21;01m.\u001B[39;00m\u001B[38;5;21;01mgeneric_model\u001B[39;00m \u001B[38;5;28;01mimport\u001B[39;00m GenericModel\n\u001B[1;32m      4\u001B[0m \u001B[38;5;28;01mfrom\u001B[39;00m \u001B[38;5;21;01msklearn\u001B[39;00m \u001B[38;5;28;01mimport\u001B[39;00m svm\n",
      "\u001B[0;31mModuleNotFoundError\u001B[0m: No module named 'ml.preprocess'"
     ]
    }
   ],
   "source": [
    "from ml.data.get_data import get_data\n",
    "from ml.preprocess.preprocessor import Preprocessor\n",
    "from ml.evaluate.generic_model import GenericModel\n",
    "from sklearn import svm\n",
    "from sklearn.ensemble import RandomForestRegressor\n",
    "from sklearn.linear_model import LinearRegression\n",
    "from ml.evaluate.model_evaluator import ModelEvaluator\n",
    "from ml.model.score import RMSE, MAE\n",
    "from ml.preprocess.train_test_splitter import TrainTestSplitter\n",
    "from ml.evaluate.model_evaluator import ScoreCriteria"
   ]
  },
  {
   "cell_type": "code",
   "execution_count": 2,
   "outputs": [],
   "source": [
    "dataset = get_data()"
   ],
   "metadata": {
    "collapsed": false,
    "ExecuteTime": {
     "end_time": "2024-01-26T15:46:24.976650Z",
     "start_time": "2024-01-26T15:46:23.770586Z"
    }
   },
   "id": "b4a819c3293c9335"
  },
  {
   "cell_type": "code",
   "execution_count": 3,
   "outputs": [],
   "source": [
    "set_preprocessor: Preprocessor = Preprocessor(data=dataset, class_column='SalePrice')\n",
    "processed_df = set_preprocessor.preprocess()"
   ],
   "metadata": {
    "collapsed": false,
    "ExecuteTime": {
     "end_time": "2024-01-26T15:46:24.997329Z",
     "start_time": "2024-01-26T15:46:24.977699Z"
    }
   },
   "id": "e36448d4723b5a26"
  },
  {
   "cell_type": "code",
   "execution_count": 4,
   "outputs": [],
   "source": [
    "splitter = TrainTestSplitter(df=processed_df, class_column='SalePrice')\n",
    "X_train, X_valid, Y_train, Y_valid, X_test = splitter.split(test_size=0.2)"
   ],
   "metadata": {
    "collapsed": false,
    "ExecuteTime": {
     "end_time": "2024-01-26T15:46:25.004136Z",
     "start_time": "2024-01-26T15:46:24.997434Z"
    }
   },
   "id": "5e51ab27ee75b7d0"
  },
  {
   "cell_type": "code",
   "execution_count": 5,
   "outputs": [],
   "source": [
    "models = {\n",
    "    'SVR': GenericModel(svm.SVR()),\n",
    "    'RFR': GenericModel(RandomForestRegressor(n_estimators=10)),\n",
    "    'LR': GenericModel(LinearRegression())\n",
    "}"
   ],
   "metadata": {
    "collapsed": false,
    "ExecuteTime": {
     "end_time": "2024-01-26T15:46:25.007187Z",
     "start_time": "2024-01-26T15:46:25.005837Z"
    }
   },
   "id": "cc354974ddb38f8a"
  },
  {
   "cell_type": "code",
   "execution_count": 6,
   "outputs": [],
   "source": [
    "evaluator: ModelEvaluator = ModelEvaluator()\n",
    "\n",
    "scores = {}\n",
    "for model_name, model in models.items():\n",
    "    model_scores = scores[model_name] = {}\n",
    "    model.fit(X_train, Y_train)\n",
    "    model_scores['RMSE'] = evaluator.evaluate(model, X_valid, Y_valid, RMSE)\n",
    "    model_scores['MAE'] = evaluator.evaluate(model, X_valid, Y_valid, MAE)\n",
    "\n",
    "# TODO: make this function accept Score object instead of string\n",
    "best_model_name:str = evaluator.choose_best_model(scores, ScoreCriteria.MIN, 'RMSE')"
   ],
   "metadata": {
    "collapsed": false,
    "ExecuteTime": {
     "end_time": "2024-01-26T15:46:25.248676Z",
     "start_time": "2024-01-26T15:46:25.011117Z"
    }
   },
   "id": "55c0bc98b584593b"
  },
  {
   "cell_type": "code",
   "execution_count": 7,
   "outputs": [],
   "source": [
    "best_model = models.get(best_model_name)\n",
    "evaluator.save_model(best_model, 'model/final_model.pkl')"
   ],
   "metadata": {
    "collapsed": false,
    "ExecuteTime": {
     "end_time": "2024-01-26T15:46:26.357338Z",
     "start_time": "2024-01-26T15:46:26.348888Z"
    }
   },
   "id": "bc18bf532a1b6a23"
  }
 ],
 "metadata": {
  "kernelspec": {
   "name": "venv",
   "language": "python",
   "display_name": "venv"
  },
  "language_info": {
   "codemirror_mode": {
    "name": "ipython",
    "version": 2
   },
   "file_extension": ".py",
   "mimetype": "text/x-python",
   "name": "python",
   "nbconvert_exporter": "python",
   "pygments_lexer": "ipython2",
   "version": "2.7.6"
  }
 },
 "nbformat": 4,
 "nbformat_minor": 5
}
