{
 "cells": [
  {
   "cell_type": "code",
   "execution_count": 1,
   "id": "initial_id",
   "metadata": {
    "collapsed": true,
    "ExecuteTime": {
     "end_time": "2024-01-27T12:31:07.644080Z",
     "start_time": "2024-01-27T12:31:06.409708Z"
    }
   },
   "outputs": [],
   "source": [
    "import pandas as pd\n",
    "\n",
    "from ml.data.data import Data\n",
    "from ml.model.preprocess.preprocessor import Preprocessor\n",
    "from sklearn import svm\n",
    "from sklearn.ensemble import RandomForestRegressor\n",
    "from sklearn.linear_model import LinearRegression\n",
    "from ml.model.evaluate.model_evaluator import ModelEvaluator\n",
    "from ml.model.evaluate.score import RMSE, MAE\n",
    "from ml.model.preprocess.train_test_splitter import TrainTestSplitter\n",
    "from ml.model.evaluate.model_evaluator import ScoreCriteria"
   ]
  },
  {
   "cell_type": "code",
   "execution_count": 2,
   "outputs": [
    {
     "name": "stderr",
     "output_type": "stream",
     "text": [
      "2024-01-27 14:31:14,636 - training - INFO - [Data] - Found data.csv locally.\n",
      "2024-01-27 14:31:14,644 - training - INFO - [Data] - Succesfully saved feature columns to feature_columns.pickle\n"
     ]
    }
   ],
   "source": [
    "class_column = 'SalePrice'\n",
    "\n",
    "data = Data(class_column)\n",
    "dataset = data.dataset\n",
    "class_col_df = dataset[class_column]\n",
    "\n",
    "data.save_feature_columns('feature_columns.pickle')"
   ],
   "metadata": {
    "collapsed": false,
    "ExecuteTime": {
     "end_time": "2024-01-27T12:31:14.654612Z",
     "start_time": "2024-01-27T12:31:14.608876Z"
    }
   },
   "id": "b4a819c3293c9335"
  },
  {
   "cell_type": "code",
   "execution_count": 3,
   "outputs": [
    {
     "name": "stderr",
     "output_type": "stream",
     "text": [
      "2024-01-27 14:31:25,777 - training - INFO - [PreProcessor] - Successfully saved pipeline to preprocess_pipeline.pickle\n"
     ]
    }
   ],
   "source": [
    "set_preprocessor: Preprocessor = Preprocessor(data=dataset, class_column=class_column)\n",
    "preprocess_pipeline = set_preprocessor.get_preprocess_pipeline()\n",
    "fit_preprocess_pipeline = preprocess_pipeline.fit(dataset.drop([class_column], axis=1))\n",
    "\n",
    "set_preprocessor.save_pipeline(fit_preprocess_pipeline, 'preprocess_pipeline.pickle')"
   ],
   "metadata": {
    "collapsed": false,
    "ExecuteTime": {
     "end_time": "2024-01-27T12:31:25.785307Z",
     "start_time": "2024-01-27T12:31:25.752401Z"
    }
   },
   "id": "e36448d4723b5a26"
  },
  {
   "cell_type": "code",
   "execution_count": 4,
   "outputs": [],
   "source": [
    "processed_df = fit_preprocess_pipeline.transform(dataset)\n",
    "processed_df = pd.concat([processed_df, class_col_df], axis=1)"
   ],
   "metadata": {
    "collapsed": false,
    "ExecuteTime": {
     "end_time": "2024-01-27T12:31:27.755536Z",
     "start_time": "2024-01-27T12:31:27.723245Z"
    }
   },
   "id": "23e5411662eac8ff"
  },
  {
   "cell_type": "code",
   "execution_count": 5,
   "outputs": [
    {
     "data": {
      "text/plain": "      MSZoning_C (all)  MSZoning_FV  MSZoning_RH  MSZoning_RL  MSZoning_RM  \\\nId                                                                           \n0                  0.0          0.0          0.0          1.0          0.0   \n1                  0.0          0.0          0.0          1.0          0.0   \n2                  0.0          0.0          0.0          1.0          0.0   \n3                  0.0          0.0          0.0          1.0          0.0   \n4                  0.0          0.0          0.0          1.0          0.0   \n...                ...          ...          ...          ...          ...   \n2914               0.0          0.0          0.0          0.0          1.0   \n2915               0.0          0.0          0.0          0.0          1.0   \n2916               0.0          0.0          0.0          1.0          0.0   \n2917               0.0          0.0          0.0          1.0          0.0   \n2918               0.0          0.0          0.0          1.0          0.0   \n\n      LotConfig_Corner  LotConfig_CulDSac  LotConfig_FR2  LotConfig_FR3  \\\nId                                                                        \n0                  0.0                0.0            0.0            0.0   \n1                  0.0                0.0            1.0            0.0   \n2                  0.0                0.0            0.0            0.0   \n3                  1.0                0.0            0.0            0.0   \n4                  0.0                0.0            1.0            0.0   \n...                ...                ...            ...            ...   \n2914               0.0                0.0            0.0            0.0   \n2915               0.0                0.0            0.0            0.0   \n2916               0.0                0.0            0.0            0.0   \n2917               0.0                0.0            0.0            0.0   \n2918               0.0                0.0            0.0            0.0   \n\n      LotConfig_Inside  ...  Exterior1st_Wd Sdng  Exterior1st_WdShing  \\\nId                      ...                                             \n0                  1.0  ...                  0.0                  0.0   \n1                  0.0  ...                  0.0                  0.0   \n2                  1.0  ...                  0.0                  0.0   \n3                  0.0  ...                  1.0                  0.0   \n4                  0.0  ...                  0.0                  0.0   \n...                ...  ...                  ...                  ...   \n2914               1.0  ...                  0.0                  0.0   \n2915               1.0  ...                  0.0                  0.0   \n2916               1.0  ...                  0.0                  0.0   \n2917               1.0  ...                  0.0                  0.0   \n2918               1.0  ...                  0.0                  0.0   \n\n      MSSubClass  LotArea  OverallCond  YearBuilt  YearRemodAdd  BsmtFinSF2  \\\nId                                                                            \n0           60.0   8450.0          5.0     2003.0        2003.0         0.0   \n1           20.0   9600.0          8.0     1976.0        1976.0         0.0   \n2           60.0  11250.0          5.0     2001.0        2002.0         0.0   \n3           70.0   9550.0          5.0     1915.0        1970.0         0.0   \n4           60.0  14260.0          5.0     2000.0        2000.0         0.0   \n...          ...      ...          ...        ...           ...         ...   \n2914       160.0   1936.0          7.0     1970.0        1970.0         0.0   \n2915       160.0   1894.0          5.0     1970.0        1970.0         0.0   \n2916        20.0  20000.0          7.0     1960.0        1996.0         0.0   \n2917        85.0  10441.0          5.0     1992.0        1992.0         0.0   \n2918        60.0   9627.0          5.0     1993.0        1994.0         0.0   \n\n      TotalBsmtSF  SalePrice  \nId                            \n0           856.0   208500.0  \n1          1262.0   181500.0  \n2           920.0   223500.0  \n3           756.0   140000.0  \n4          1145.0   250000.0  \n...           ...        ...  \n2914        546.0        NaN  \n2915        546.0        NaN  \n2916       1224.0        NaN  \n2917        912.0        NaN  \n2918        996.0        NaN  \n\n[2919 rows x 38 columns]",
      "text/html": "<div>\n<style scoped>\n    .dataframe tbody tr th:only-of-type {\n        vertical-align: middle;\n    }\n\n    .dataframe tbody tr th {\n        vertical-align: top;\n    }\n\n    .dataframe thead th {\n        text-align: right;\n    }\n</style>\n<table border=\"1\" class=\"dataframe\">\n  <thead>\n    <tr style=\"text-align: right;\">\n      <th></th>\n      <th>MSZoning_C (all)</th>\n      <th>MSZoning_FV</th>\n      <th>MSZoning_RH</th>\n      <th>MSZoning_RL</th>\n      <th>MSZoning_RM</th>\n      <th>LotConfig_Corner</th>\n      <th>LotConfig_CulDSac</th>\n      <th>LotConfig_FR2</th>\n      <th>LotConfig_FR3</th>\n      <th>LotConfig_Inside</th>\n      <th>...</th>\n      <th>Exterior1st_Wd Sdng</th>\n      <th>Exterior1st_WdShing</th>\n      <th>MSSubClass</th>\n      <th>LotArea</th>\n      <th>OverallCond</th>\n      <th>YearBuilt</th>\n      <th>YearRemodAdd</th>\n      <th>BsmtFinSF2</th>\n      <th>TotalBsmtSF</th>\n      <th>SalePrice</th>\n    </tr>\n    <tr>\n      <th>Id</th>\n      <th></th>\n      <th></th>\n      <th></th>\n      <th></th>\n      <th></th>\n      <th></th>\n      <th></th>\n      <th></th>\n      <th></th>\n      <th></th>\n      <th></th>\n      <th></th>\n      <th></th>\n      <th></th>\n      <th></th>\n      <th></th>\n      <th></th>\n      <th></th>\n      <th></th>\n      <th></th>\n      <th></th>\n    </tr>\n  </thead>\n  <tbody>\n    <tr>\n      <th>0</th>\n      <td>0.0</td>\n      <td>0.0</td>\n      <td>0.0</td>\n      <td>1.0</td>\n      <td>0.0</td>\n      <td>0.0</td>\n      <td>0.0</td>\n      <td>0.0</td>\n      <td>0.0</td>\n      <td>1.0</td>\n      <td>...</td>\n      <td>0.0</td>\n      <td>0.0</td>\n      <td>60.0</td>\n      <td>8450.0</td>\n      <td>5.0</td>\n      <td>2003.0</td>\n      <td>2003.0</td>\n      <td>0.0</td>\n      <td>856.0</td>\n      <td>208500.0</td>\n    </tr>\n    <tr>\n      <th>1</th>\n      <td>0.0</td>\n      <td>0.0</td>\n      <td>0.0</td>\n      <td>1.0</td>\n      <td>0.0</td>\n      <td>0.0</td>\n      <td>0.0</td>\n      <td>1.0</td>\n      <td>0.0</td>\n      <td>0.0</td>\n      <td>...</td>\n      <td>0.0</td>\n      <td>0.0</td>\n      <td>20.0</td>\n      <td>9600.0</td>\n      <td>8.0</td>\n      <td>1976.0</td>\n      <td>1976.0</td>\n      <td>0.0</td>\n      <td>1262.0</td>\n      <td>181500.0</td>\n    </tr>\n    <tr>\n      <th>2</th>\n      <td>0.0</td>\n      <td>0.0</td>\n      <td>0.0</td>\n      <td>1.0</td>\n      <td>0.0</td>\n      <td>0.0</td>\n      <td>0.0</td>\n      <td>0.0</td>\n      <td>0.0</td>\n      <td>1.0</td>\n      <td>...</td>\n      <td>0.0</td>\n      <td>0.0</td>\n      <td>60.0</td>\n      <td>11250.0</td>\n      <td>5.0</td>\n      <td>2001.0</td>\n      <td>2002.0</td>\n      <td>0.0</td>\n      <td>920.0</td>\n      <td>223500.0</td>\n    </tr>\n    <tr>\n      <th>3</th>\n      <td>0.0</td>\n      <td>0.0</td>\n      <td>0.0</td>\n      <td>1.0</td>\n      <td>0.0</td>\n      <td>1.0</td>\n      <td>0.0</td>\n      <td>0.0</td>\n      <td>0.0</td>\n      <td>0.0</td>\n      <td>...</td>\n      <td>1.0</td>\n      <td>0.0</td>\n      <td>70.0</td>\n      <td>9550.0</td>\n      <td>5.0</td>\n      <td>1915.0</td>\n      <td>1970.0</td>\n      <td>0.0</td>\n      <td>756.0</td>\n      <td>140000.0</td>\n    </tr>\n    <tr>\n      <th>4</th>\n      <td>0.0</td>\n      <td>0.0</td>\n      <td>0.0</td>\n      <td>1.0</td>\n      <td>0.0</td>\n      <td>0.0</td>\n      <td>0.0</td>\n      <td>1.0</td>\n      <td>0.0</td>\n      <td>0.0</td>\n      <td>...</td>\n      <td>0.0</td>\n      <td>0.0</td>\n      <td>60.0</td>\n      <td>14260.0</td>\n      <td>5.0</td>\n      <td>2000.0</td>\n      <td>2000.0</td>\n      <td>0.0</td>\n      <td>1145.0</td>\n      <td>250000.0</td>\n    </tr>\n    <tr>\n      <th>...</th>\n      <td>...</td>\n      <td>...</td>\n      <td>...</td>\n      <td>...</td>\n      <td>...</td>\n      <td>...</td>\n      <td>...</td>\n      <td>...</td>\n      <td>...</td>\n      <td>...</td>\n      <td>...</td>\n      <td>...</td>\n      <td>...</td>\n      <td>...</td>\n      <td>...</td>\n      <td>...</td>\n      <td>...</td>\n      <td>...</td>\n      <td>...</td>\n      <td>...</td>\n      <td>...</td>\n    </tr>\n    <tr>\n      <th>2914</th>\n      <td>0.0</td>\n      <td>0.0</td>\n      <td>0.0</td>\n      <td>0.0</td>\n      <td>1.0</td>\n      <td>0.0</td>\n      <td>0.0</td>\n      <td>0.0</td>\n      <td>0.0</td>\n      <td>1.0</td>\n      <td>...</td>\n      <td>0.0</td>\n      <td>0.0</td>\n      <td>160.0</td>\n      <td>1936.0</td>\n      <td>7.0</td>\n      <td>1970.0</td>\n      <td>1970.0</td>\n      <td>0.0</td>\n      <td>546.0</td>\n      <td>NaN</td>\n    </tr>\n    <tr>\n      <th>2915</th>\n      <td>0.0</td>\n      <td>0.0</td>\n      <td>0.0</td>\n      <td>0.0</td>\n      <td>1.0</td>\n      <td>0.0</td>\n      <td>0.0</td>\n      <td>0.0</td>\n      <td>0.0</td>\n      <td>1.0</td>\n      <td>...</td>\n      <td>0.0</td>\n      <td>0.0</td>\n      <td>160.0</td>\n      <td>1894.0</td>\n      <td>5.0</td>\n      <td>1970.0</td>\n      <td>1970.0</td>\n      <td>0.0</td>\n      <td>546.0</td>\n      <td>NaN</td>\n    </tr>\n    <tr>\n      <th>2916</th>\n      <td>0.0</td>\n      <td>0.0</td>\n      <td>0.0</td>\n      <td>1.0</td>\n      <td>0.0</td>\n      <td>0.0</td>\n      <td>0.0</td>\n      <td>0.0</td>\n      <td>0.0</td>\n      <td>1.0</td>\n      <td>...</td>\n      <td>0.0</td>\n      <td>0.0</td>\n      <td>20.0</td>\n      <td>20000.0</td>\n      <td>7.0</td>\n      <td>1960.0</td>\n      <td>1996.0</td>\n      <td>0.0</td>\n      <td>1224.0</td>\n      <td>NaN</td>\n    </tr>\n    <tr>\n      <th>2917</th>\n      <td>0.0</td>\n      <td>0.0</td>\n      <td>0.0</td>\n      <td>1.0</td>\n      <td>0.0</td>\n      <td>0.0</td>\n      <td>0.0</td>\n      <td>0.0</td>\n      <td>0.0</td>\n      <td>1.0</td>\n      <td>...</td>\n      <td>0.0</td>\n      <td>0.0</td>\n      <td>85.0</td>\n      <td>10441.0</td>\n      <td>5.0</td>\n      <td>1992.0</td>\n      <td>1992.0</td>\n      <td>0.0</td>\n      <td>912.0</td>\n      <td>NaN</td>\n    </tr>\n    <tr>\n      <th>2918</th>\n      <td>0.0</td>\n      <td>0.0</td>\n      <td>0.0</td>\n      <td>1.0</td>\n      <td>0.0</td>\n      <td>0.0</td>\n      <td>0.0</td>\n      <td>0.0</td>\n      <td>0.0</td>\n      <td>1.0</td>\n      <td>...</td>\n      <td>0.0</td>\n      <td>0.0</td>\n      <td>60.0</td>\n      <td>9627.0</td>\n      <td>5.0</td>\n      <td>1993.0</td>\n      <td>1994.0</td>\n      <td>0.0</td>\n      <td>996.0</td>\n      <td>NaN</td>\n    </tr>\n  </tbody>\n</table>\n<p>2919 rows × 38 columns</p>\n</div>"
     },
     "execution_count": 5,
     "metadata": {},
     "output_type": "execute_result"
    }
   ],
   "source": [
    "processed_df"
   ],
   "metadata": {
    "collapsed": false,
    "ExecuteTime": {
     "end_time": "2024-01-27T12:31:29.884976Z",
     "start_time": "2024-01-27T12:31:29.843078Z"
    }
   },
   "id": "5999cb5283ed979e"
  },
  {
   "cell_type": "code",
   "execution_count": 6,
   "outputs": [
    {
     "name": "stderr",
     "output_type": "stream",
     "text": [
      "2024-01-27 14:31:32,621 - training - INFO - [Data] - Split data into train and test sets with\n",
      "2024-01-27 14:31:32,623 - training - INFO - [Data] - Creating test set with 1459 rows.\n"
     ]
    }
   ],
   "source": [
    "splitter = TrainTestSplitter(df=processed_df, class_column='SalePrice')\n",
    "X_train, X_valid, Y_train, Y_valid, X_test = splitter.split(test_size=0.2)"
   ],
   "metadata": {
    "collapsed": false,
    "ExecuteTime": {
     "end_time": "2024-01-27T12:31:32.662670Z",
     "start_time": "2024-01-27T12:31:32.619589Z"
    }
   },
   "id": "5e51ab27ee75b7d0"
  },
  {
   "cell_type": "code",
   "execution_count": 16,
   "outputs": [],
   "source": [
    "models = {\n",
    "    'SVR': svm.SVR(),\n",
    "    'RFR': RandomForestRegressor(n_estimators=10),\n",
    "    'LR': LinearRegression()\n",
    "}"
   ],
   "metadata": {
    "collapsed": false,
    "ExecuteTime": {
     "end_time": "2024-01-27T14:08:14.440615Z",
     "start_time": "2024-01-27T14:08:14.437878Z"
    }
   },
   "id": "cc354974ddb38f8a"
  },
  {
   "cell_type": "code",
   "execution_count": 17,
   "outputs": [],
   "source": [
    "evaluator: ModelEvaluator = ModelEvaluator()\n",
    "\n",
    "scores = {}\n",
    "for model_name, model in models.items():\n",
    "    model_scores = scores[model_name] = {}\n",
    "    model.fit(X_train, Y_train)\n",
    "    model_scores['RMSE'] = evaluator.evaluate(model, X_valid, Y_valid, RMSE)\n",
    "    model_scores['MAE'] = evaluator.evaluate(model, X_valid, Y_valid, MAE)\n",
    "\n",
    "# TODO: make this function accept Score object instead of string\n",
    "best_model_name:str = evaluator.choose_best_model(scores, ScoreCriteria.MIN, 'RMSE')"
   ],
   "metadata": {
    "collapsed": false,
    "ExecuteTime": {
     "end_time": "2024-01-27T14:08:16.010942Z",
     "start_time": "2024-01-27T14:08:15.716690Z"
    }
   },
   "id": "55c0bc98b584593b"
  },
  {
   "cell_type": "code",
   "execution_count": 18,
   "outputs": [],
   "source": [
    "best_model = models.get(best_model_name)\n",
    "evaluator.save_model(best_model, 'final_model2.pickle')"
   ],
   "metadata": {
    "collapsed": false,
    "ExecuteTime": {
     "end_time": "2024-01-27T14:08:22.165258Z",
     "start_time": "2024-01-27T14:08:22.152271Z"
    }
   },
   "id": "bc18bf532a1b6a23"
  },
  {
   "cell_type": "code",
   "execution_count": 9,
   "outputs": [],
   "source": [],
   "metadata": {
    "collapsed": false,
    "ExecuteTime": {
     "end_time": "2024-01-27T12:31:41.069929Z",
     "start_time": "2024-01-27T12:31:41.047981Z"
    }
   },
   "id": "f9e4f94e9065a6da"
  },
  {
   "cell_type": "code",
   "execution_count": 10,
   "outputs": [],
   "source": [
    "test_case = [{\n",
    "    \"MSSubClass\": 60,\n",
    "    \"MSZoning\": \"RL\",\n",
    "    \"LotArea\": 9627,\n",
    "    \"LotConfig\": \"Inside\",\n",
    "    \"BldgType\": \"1Fam\",\n",
    "    \"OverallCond\": 5,\n",
    "    \"YearBuilt\": 1993,\n",
    "    \"YearRemodAdd\": 1994,\n",
    "    \"Exterior1st\": \"HdBoard\",\n",
    "    \"BsmtFinSF2\": 0.0,\n",
    "    \"TotalBsmtSF\": 996.0\n",
    "}]"
   ],
   "metadata": {
    "collapsed": false
   },
   "id": "28c36449aa352dad"
  },
  {
   "cell_type": "code",
   "execution_count": 11,
   "outputs": [
    {
     "data": {
      "text/plain": "   MSSubClass MSZoning  LotArea LotConfig BldgType  OverallCond  YearBuilt  \\\n0          60       RL     9627    Inside     1Fam            5       1993   \n\n   YearRemodAdd Exterior1st  BsmtFinSF2  TotalBsmtSF  \n0          1994     HdBoard         0.0        996.0  ",
      "text/html": "<div>\n<style scoped>\n    .dataframe tbody tr th:only-of-type {\n        vertical-align: middle;\n    }\n\n    .dataframe tbody tr th {\n        vertical-align: top;\n    }\n\n    .dataframe thead th {\n        text-align: right;\n    }\n</style>\n<table border=\"1\" class=\"dataframe\">\n  <thead>\n    <tr style=\"text-align: right;\">\n      <th></th>\n      <th>MSSubClass</th>\n      <th>MSZoning</th>\n      <th>LotArea</th>\n      <th>LotConfig</th>\n      <th>BldgType</th>\n      <th>OverallCond</th>\n      <th>YearBuilt</th>\n      <th>YearRemodAdd</th>\n      <th>Exterior1st</th>\n      <th>BsmtFinSF2</th>\n      <th>TotalBsmtSF</th>\n    </tr>\n  </thead>\n  <tbody>\n    <tr>\n      <th>0</th>\n      <td>60</td>\n      <td>RL</td>\n      <td>9627</td>\n      <td>Inside</td>\n      <td>1Fam</td>\n      <td>5</td>\n      <td>1993</td>\n      <td>1994</td>\n      <td>HdBoard</td>\n      <td>0.0</td>\n      <td>996.0</td>\n    </tr>\n  </tbody>\n</table>\n</div>"
     },
     "execution_count": 11,
     "metadata": {},
     "output_type": "execute_result"
    }
   ],
   "source": [
    "x = pd.DataFrame(test_case)\n",
    "x"
   ],
   "metadata": {
    "collapsed": false
   },
   "id": "2af653e3d759a054"
  },
  {
   "cell_type": "code",
   "execution_count": 12,
   "outputs": [],
   "source": [
    "import pickle\n",
    "sdsd = pickle.load(open('preprocess_pipeline.pickle', 'rb'))\n"
   ],
   "metadata": {
    "collapsed": false
   },
   "id": "6087b49ff469e444"
  }
 ],
 "metadata": {
  "kernelspec": {
   "name": "venv",
   "language": "python",
   "display_name": "venv"
  },
  "language_info": {
   "codemirror_mode": {
    "name": "ipython",
    "version": 2
   },
   "file_extension": ".py",
   "mimetype": "text/x-python",
   "name": "python",
   "nbconvert_exporter": "python",
   "pygments_lexer": "ipython2",
   "version": "2.7.6"
  }
 },
 "nbformat": 4,
 "nbformat_minor": 5
}
