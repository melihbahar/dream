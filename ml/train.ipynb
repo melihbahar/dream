{
 "cells": [
  {
   "cell_type": "code",
   "execution_count": 2,
   "id": "initial_id",
   "metadata": {
    "collapsed": true,
    "ExecuteTime": {
     "end_time": "2024-01-27T09:16:30.337579Z",
     "start_time": "2024-01-27T09:16:29.221661Z"
    }
   },
   "outputs": [],
   "source": [
    "from ml.data.get_data import get_data\n",
    "from ml.model.preprocess.preprocessor import Preprocessor\n",
    "from ml.model.evaluate.generic_model import GenericModel\n",
    "from sklearn import svm\n",
    "from sklearn.ensemble import RandomForestRegressor\n",
    "from sklearn.linear_model import LinearRegression\n",
    "from ml.model.evaluate.model_evaluator import ModelEvaluator\n",
    "from ml.model.score import RMSE, MAE\n",
    "from ml.model.preprocess.train_test_splitter import TrainTestSplitter\n",
    "from ml.model.evaluate.model_evaluator import ScoreCriteria"
   ]
  },
  {
   "cell_type": "code",
   "execution_count": 3,
   "outputs": [],
   "source": [
    "dataset = get_data()"
   ],
   "metadata": {
    "collapsed": false,
    "ExecuteTime": {
     "end_time": "2024-01-27T09:16:32.238667Z",
     "start_time": "2024-01-27T09:16:30.881869Z"
    }
   },
   "id": "b4a819c3293c9335"
  },
  {
   "cell_type": "code",
   "execution_count": 4,
   "outputs": [],
   "source": [
    "set_preprocessor: Preprocessor = Preprocessor(data=dataset, class_column='SalePrice')\n",
    "processed_df = set_preprocessor.preprocess()"
   ],
   "metadata": {
    "collapsed": false,
    "ExecuteTime": {
     "end_time": "2024-01-27T09:16:33.029364Z",
     "start_time": "2024-01-27T09:16:32.997165Z"
    }
   },
   "id": "e36448d4723b5a26"
  },
  {
   "cell_type": "code",
   "execution_count": 5,
   "outputs": [],
   "source": [
    "splitter = TrainTestSplitter(df=processed_df, class_column='SalePrice')\n",
    "X_train, X_valid, Y_train, Y_valid, X_test = splitter.split(test_size=0.2)"
   ],
   "metadata": {
    "collapsed": false,
    "ExecuteTime": {
     "end_time": "2024-01-27T09:16:33.725154Z",
     "start_time": "2024-01-27T09:16:33.706741Z"
    }
   },
   "id": "5e51ab27ee75b7d0"
  },
  {
   "cell_type": "code",
   "execution_count": 6,
   "outputs": [],
   "source": [
    "models = {\n",
    "    'SVR': GenericModel(svm.SVR()),\n",
    "    'RFR': GenericModel(RandomForestRegressor(n_estimators=10)),\n",
    "    'LR': GenericModel(LinearRegression())\n",
    "}"
   ],
   "metadata": {
    "collapsed": false,
    "ExecuteTime": {
     "end_time": "2024-01-27T09:16:34.385526Z",
     "start_time": "2024-01-27T09:16:34.361791Z"
    }
   },
   "id": "cc354974ddb38f8a"
  },
  {
   "cell_type": "code",
   "execution_count": 7,
   "outputs": [],
   "source": [
    "evaluator: ModelEvaluator = ModelEvaluator()\n",
    "\n",
    "scores = {}\n",
    "for model_name, model in models.items():\n",
    "    model_scores = scores[model_name] = {}\n",
    "    model.fit(X_train, Y_train)\n",
    "    model_scores['RMSE'] = evaluator.evaluate(model, X_valid, Y_valid, RMSE)\n",
    "    model_scores['MAE'] = evaluator.evaluate(model, X_valid, Y_valid, MAE)\n",
    "\n",
    "# TODO: make this function accept Score object instead of string\n",
    "best_model_name:str = evaluator.choose_best_model(scores, ScoreCriteria.MIN, 'RMSE')"
   ],
   "metadata": {
    "collapsed": false,
    "ExecuteTime": {
     "end_time": "2024-01-27T09:16:35.736744Z",
     "start_time": "2024-01-27T09:16:35.469124Z"
    }
   },
   "id": "55c0bc98b584593b"
  },
  {
   "cell_type": "code",
   "execution_count": 9,
   "outputs": [
    {
     "ename": "FileNotFoundError",
     "evalue": "[Errno 2] No such file or directory: 'app/api/model/final_model.pickle'",
     "output_type": "error",
     "traceback": [
      "\u001B[0;31m---------------------------------------------------------------------------\u001B[0m",
      "\u001B[0;31mFileNotFoundError\u001B[0m                         Traceback (most recent call last)",
      "Cell \u001B[0;32mIn[9], line 2\u001B[0m\n\u001B[1;32m      1\u001B[0m best_model \u001B[38;5;241m=\u001B[39m models\u001B[38;5;241m.\u001B[39mget(best_model_name)\n\u001B[0;32m----> 2\u001B[0m \u001B[43mevaluator\u001B[49m\u001B[38;5;241;43m.\u001B[39;49m\u001B[43msave_model\u001B[49m\u001B[43m(\u001B[49m\u001B[43mbest_model\u001B[49m\u001B[43m,\u001B[49m\u001B[43m \u001B[49m\u001B[38;5;124;43m'\u001B[39;49m\u001B[38;5;124;43mapp/api/model/final_model.pickle\u001B[39;49m\u001B[38;5;124;43m'\u001B[39;49m\u001B[43m)\u001B[49m\n",
      "File \u001B[0;32m~/PycharmProjects/flaskProject/ml/model/evaluate/model_evaluator.py:31\u001B[0m, in \u001B[0;36mModelEvaluator.save_model\u001B[0;34m(self, model, path)\u001B[0m\n\u001B[1;32m     30\u001B[0m \u001B[38;5;28;01mdef\u001B[39;00m \u001B[38;5;21msave_model\u001B[39m(\u001B[38;5;28mself\u001B[39m, model, path: \u001B[38;5;28mstr\u001B[39m):\n\u001B[0;32m---> 31\u001B[0m     \u001B[38;5;28;01mwith\u001B[39;00m \u001B[38;5;28;43mopen\u001B[39;49m\u001B[43m(\u001B[49m\u001B[43mpath\u001B[49m\u001B[43m,\u001B[49m\u001B[43m \u001B[49m\u001B[38;5;124;43m'\u001B[39;49m\u001B[38;5;124;43mwb\u001B[39;49m\u001B[38;5;124;43m'\u001B[39;49m\u001B[43m)\u001B[49m \u001B[38;5;28;01mas\u001B[39;00m f:\n\u001B[1;32m     32\u001B[0m         pickle\u001B[38;5;241m.\u001B[39mdump(model, f)\n",
      "\u001B[0;31mFileNotFoundError\u001B[0m: [Errno 2] No such file or directory: 'app/api/model/final_model.pickle'"
     ]
    }
   ],
   "source": [
    "best_model = models.get(best_model_name)\n",
    "evaluator.save_model(best_model, 'app/api/model/final_model.pickle')"
   ],
   "metadata": {
    "collapsed": false,
    "ExecuteTime": {
     "end_time": "2024-01-27T09:17:40.316353Z",
     "start_time": "2024-01-27T09:17:40.302466Z"
    }
   },
   "id": "bc18bf532a1b6a23"
  },
  {
   "cell_type": "code",
   "execution_count": null,
   "outputs": [],
   "source": [],
   "metadata": {
    "collapsed": false
   },
   "id": "40022e9418cf2dae"
  }
 ],
 "metadata": {
  "kernelspec": {
   "name": "venv",
   "language": "python",
   "display_name": "venv"
  },
  "language_info": {
   "codemirror_mode": {
    "name": "ipython",
    "version": 2
   },
   "file_extension": ".py",
   "mimetype": "text/x-python",
   "name": "python",
   "nbconvert_exporter": "python",
   "pygments_lexer": "ipython2",
   "version": "2.7.6"
  }
 },
 "nbformat": 4,
 "nbformat_minor": 5
}
